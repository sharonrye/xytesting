{
 "cells": [
  {
   "cell_type": "code",
   "execution_count": 33,
   "id": "d19ef687",
   "metadata": {},
   "outputs": [
    {
     "name": "stdout",
     "output_type": "stream",
     "text": [
      "[1, 5, 13, 29, 49, 81, 113, 149, 197, 253, 317, 377]\n"
     ]
    }
   ],
   "source": [
    "def num_grid_points(r):\n",
    "    total = 0\n",
    "    for x in range(r + 1):\n",
    "        for y in range(r + 1):\n",
    "            if x**2 + y**2 <= r**2:\n",
    "                total = total + 1\n",
    "    return 4 * (total - r) - 3\n",
    "\n",
    "points_list = []\n",
    "for i in range(12):\n",
    "    points_list.append(num_grid_points(i))\n",
    "print(points_list)"
   ]
  },
  {
   "cell_type": "code",
   "execution_count": 30,
   "id": "6ee793b7",
   "metadata": {},
   "outputs": [
    {
     "data": {
      "image/png": "[encoded data removed]",
      "text/plain": [
       "<Figure size 432x288 with 1 Axes>"
      ]
     },
     "metadata": {
      "needs_background": "light"
     },
     "output_type": "display_data"
    }
   ],
   "source": [
    "import matplotlib.pyplot as plt\n",
    "import numpy as np\n",
    "\n",
    "def show_grid_points(r):\n",
    "    circle = plt.Circle((0,0), r, color='b', fill=False)\n",
    "    ax = plt.gca()\n",
    "    ax.add_patch(circle)\n",
    "    plt.xticks(np.arange(-(r+1),r+2,1))\n",
    "    plt.yticks(np.arange(-(r+1),r+2,1))\n",
    "    ax.set_aspect('equal')\n",
    "    plt.grid()\n",
    "    for x in range(r + 1):\n",
    "        for y in range(r + 1):\n",
    "            if x**2 + y**2 <= r**2:\n",
    "                plt.plot(x, y,'bo')\n",
    "\n",
    "show_grid_points(5)\n"
   ]
  },
  {
   "cell_type": "code",
   "execution_count": 5,
   "id": "d651f4dd",
   "metadata": {},
   "outputs": [
    {
     "name": "stdout",
     "output_type": "stream",
     "text": [
      "[(-2, -2), (-2, -1), (-2, 0), (-2, 1), (-2, 2), (-1, -2), (-1, -1), (-1, 0), (-1, 1), (-1, 2), (0, -2), (0, -1), (0, 0), (0, 1), (0, 2), (1, -2), (1, -1), (1, 0), (1, 1), (1, 2), (2, -2), (2, -1), (2, 0), (2, 1), (2, 2)]\n"
     ]
    },
    {
     "data": {
      "image/png": "[encoded data removed]",
      "text/plain": [
       "<Figure size 432x288 with 1 Axes>"
      ]
     },
     "metadata": {
      "needs_background": "light"
     },
     "output_type": "display_data"
    }
   ],
   "source": [
    "import matplotlib.pyplot as plt\n",
    "\n",
    "unit = 1\n",
    "points = []\n",
    "index = 2\n",
    "for x in range(-index, index + 1, 1):\n",
    "    for y in range(-index, index + 1, 1):\n",
    "        points.append((x * unit, y * unit))\n",
    "print(points)\n",
    "\n",
    "plt.xlim((-(index+1), index+1))\n",
    "plt.ylim((-(index+1), index+1))\n",
    "for point in points:\n",
    "    plt.plot(point[0], point[1], 'bo')\n"
   ]
  },
  {
   "cell_type": "code",
   "execution_count": 1,
   "id": "5fba9ad7",
   "metadata": {},
   "outputs": [],
   "source": []
  },
  {
   "cell_type": "code",
   "execution_count": 40,
   "id": "0bbe3ffe",
   "metadata": {},
   "outputs": [],
   "source": [
    "import numpy as np\n",
    "from math import pi\n",
    "import math\n",
    "\n",
    "def fuzzy_circle(center_x, center_y, radius, num_points, sd=0.1):\n",
    "    points = np.empty((num_points, 2))\n",
    "    increment = 2 * pi / num_points\n",
    "    for i in range(num_points):\n",
    "        theta = i * increment\n",
    "        x = radius * math.cos(theta) + center_x\n",
    "        y = radius * math.sin(theta) + center_y\n",
    "        points[i][0] = x\n",
    "        points[i][1] = y\n",
    "    fuzzer = np.random.normal(0, sd, (num_points, 2))\n",
    "    points = points + fuzzer\n",
    "    return points"
   ]
  },
  {
   "cell_type": "code",
   "execution_count": 41,
   "id": "c1a96150",
   "metadata": {},
   "outputs": [
    {
     "name": "stdout",
     "output_type": "stream",
     "text": [
      "0.055702210412340455 -0.1370092736212141 3.0733318955400417 0.2238857627426497\n"
     ]
    },
    {
     "data": {
      "image/png": "[encoded data removed]",
      "text/plain": [
       "<Figure size 432x288 with 1 Axes>"
      ]
     },
     "metadata": {
      "needs_background": "light"
     },
     "output_type": "display_data"
    }
   ],
   "source": [
    "import matplotlib.pyplot as plt\n",
    "from circle_fit import standardLSQ, hyperLSQ, hyperSVD\n",
    "\n",
    "def visualize(center_x, center_y, radius, num_points, sd, fit_method='standardLSQ'):\n",
    "    points = fuzzy_circle(center_x, center_y, radius, num_points, sd)\n",
    "    circle = plt.Circle((center_x, center_y), radius, color='b', fill=False)\n",
    "    ax = plt.gca()\n",
    "    ax.add_patch(circle)\n",
    "    ax.set_aspect('equal')\n",
    "    plt.grid()\n",
    "    plt.xticks(np.arange(-(radius + 1 + center_x), radius + 2 + center_x, 1))\n",
    "    plt.yticks(np.arange(-(radius + 1 + center_y), radius + 2 + center_y, 1))\n",
    "    for point in points:\n",
    "        plt.plot(point[0], point[1], 'bo')\n",
    "    x = None\n",
    "    y = None\n",
    "    r = None\n",
    "    s = None\n",
    "    if fit_method == 'standardLSQ':\n",
    "        x, y, r, s = standardLSQ(points)\n",
    "    elif fit_method == 'hyperLSQ':\n",
    "        x, y, r, s = hyperLSQ(points)\n",
    "    elif fit_method == 'hyperSVD':\n",
    "        x, y, r, s = hyperSVD(points)\n",
    "    circ_approx = plt.Circle((x, y), r, color='r', fill=False)\n",
    "    ax.add_patch(circ_approx)\n",
    "    print(x, y, r, s)\n",
    "        \n",
    "visualize(0, 0, 3, 24, 0.3)"
   ]
  },
  {
   "cell_type": "code",
   "execution_count": null,
   "id": "0ca0b221",
   "metadata": {},
   "outputs": [],
   "source": []
  },
  {
   "cell_type": "code",
   "execution_count": null,
   "id": "6d354665",
   "metadata": {},
   "outputs": [],
   "source": []
  }
 ],
 "metadata": {
  "kernelspec": {
   "display_name": "Python 3 (ipykernel)",
   "language": "python",
   "name": "python3"
  },
  "language_info": {
   "codemirror_mode": {
    "name": "ipython",
    "version": 3
   },
   "file_extension": ".py",
   "mimetype": "text/x-python",
   "name": "python",
   "nbconvert_exporter": "python",
   "pygments_lexer": "ipython3",
   "version": "3.10.12"
  }
 },
 "nbformat": 4,
 "nbformat_minor": 5
}
